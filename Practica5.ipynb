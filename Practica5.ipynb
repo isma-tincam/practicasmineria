{
  "nbformat": 4,
  "nbformat_minor": 0,
  "metadata": {
    "kernelspec": {
      "display_name": "Python 3",
      "language": "python",
      "name": "python3"
    },
    "language_info": {
      "codemirror_mode": {
        "name": "ipython",
        "version": 3
      },
      "file_extension": ".py",
      "mimetype": "text/x-python",
      "name": "python",
      "nbconvert_exporter": "python",
      "pygments_lexer": "ipython3",
      "version": "3.7.4"
    },
    "colab": {
      "name": "Practica5.ipynb",
      "provenance": [],
      "include_colab_link": true
    }
  },
  "cells": [
    {
      "cell_type": "markdown",
      "metadata": {
        "id": "view-in-github",
        "colab_type": "text"
      },
      "source": [
        "<a href=\"https://colab.research.google.com/github/isma-tincam/practicasmineria/blob/master/Practica5.ipynb\" target=\"_parent\"><img src=\"https://colab.research.google.com/assets/colab-badge.svg\" alt=\"Open In Colab\"/></a>"
      ]
    },
    {
      "cell_type": "code",
      "metadata": {
        "id": "VGbBcRnpWHkb",
        "colab_type": "code",
        "colab": {}
      },
      "source": [
        "from pandas import read_csv\n",
        "import matplotlib.pyplot as plt\n",
        "\n",
        "from sklearn.preprocessing import LabelEncoder\n",
        "from sklearn.preprocessing import OrdinalEncoder\n",
        "from sklearn.feature_selection import SelectKBest\n",
        "from sklearn.feature_selection import chi2\n",
        "from sklearn.feature_selection import mutual_info_classif\n",
        "from sklearn.model_selection import train_test_split\n",
        "from sklearn.linear_model import LogisticRegression\n",
        "from sklearn.metrics import accuracy_score"
      ],
      "execution_count": 0,
      "outputs": []
    },
    {
      "cell_type": "code",
      "metadata": {
        "id": "gN5o-DdSWHkf",
        "colab_type": "code",
        "colab": {}
      },
      "source": [
        "#Cargamos el dataset\n",
        "def load_dataset(filename):\n",
        "    #Como un Dataframe\n",
        "    data = read_csv(filename, header=None)\n",
        "    #Creamos una matriz con los datos\n",
        "    dataset = data.values\n",
        "    #Dividimos en X y y\n",
        "    X = dataset[:, :-1]\n",
        "    y = dataset[:,-1]\n",
        "    #Forzamos el tipo string\n",
        "    X = X.astype(str)\n",
        "    return X, y\n",
        " \n",
        "#Preparamos los datos de entrada, X\n",
        "def prepare_inputs(X_train, X_test):\n",
        "    oe = OrdinalEncoder()\n",
        "    oe.fit(X_train)\n",
        "    X_train_enc = oe.transform(X_train)\n",
        "    X_test_enc = oe.transform(X_test)\n",
        "    return X_train_enc, X_test_enc\n",
        " \n",
        "#Preparamos los datos de salida, y\n",
        "def prepare_targets(y_train, y_test):\n",
        "    le = LabelEncoder()\n",
        "    le.fit(y_train)\n",
        "    y_train_enc = le.transform(y_train)\n",
        "    y_test_enc = le.transform(y_test)\n",
        "    return y_train_enc, y_test_enc"
      ],
      "execution_count": 0,
      "outputs": []
    },
    {
      "cell_type": "code",
      "metadata": {
        "id": "aG2e2n6PWHkj",
        "colab_type": "code",
        "colab": {},
        "outputId": "f29775e7-57c4-4454-ac74-94e80ec9124f"
      },
      "source": [
        "#Cargamos el dataset\n",
        "file = \"https://raw.githubusercontent.com/jbrownlee/Datasets/master/breast-cancer.csv\"\n",
        "X, y = load_dataset(file)\n",
        "\n",
        "#Dividimos los datos de entrada, X, y salida, y\n",
        "X_train, X_test, y_train, y_test = train_test_split(X, y, test_size=0.33, random_state=1)\n",
        "#Preparamos a X\n",
        "X_train_enc, X_test_enc = prepare_inputs(X_train, X_test)\n",
        "#Preparamos ay\n",
        "y_train_enc, y_test_enc = prepare_targets(y_train, y_test)\n",
        "\n",
        "#Buscamos el modelo\n",
        "model = LogisticRegression(solver='lbfgs')\n",
        "model.fit(X_train_enc, y_train_enc)\n",
        "\n",
        "#Encontramos el modelo\n",
        "yhat = model.predict(X_test_enc)\n",
        "\n",
        "#Evaluamos el desempeño del modelo encontrado\n",
        "accuracy = accuracy_score(y_test_enc, yhat)\n",
        "print('Accuracy/exactitud: %.2f' % (accuracy*100), '%')"
      ],
      "execution_count": 0,
      "outputs": [
        {
          "output_type": "stream",
          "text": [
            "Accuracy/exactitud: 75.79 %\n"
          ],
          "name": "stdout"
        }
      ]
    },
    {
      "cell_type": "code",
      "metadata": {
        "id": "3wWn_J7aWHkn",
        "colab_type": "code",
        "colab": {}
      },
      "source": [
        "#Selección de características\n",
        "def select_features(X_train, y_train, X_test):\n",
        "    fs = SelectKBest(score_func=chi2, k=4)\n",
        "    fs.fit(X_train, y_train)\n",
        "    X_train_fs = fs.transform(X_train)\n",
        "    X_test_fs = fs.transform(X_test)\n",
        "    \n",
        "    for i in range(len(fs.scores_)):\n",
        "        print('Característica %d: %f' % (i, fs.scores_[i]))\n",
        "    \n",
        "    plt.bar([i for i in range(len(fs.scores_))], fs.scores_)\n",
        "    return X_train_fs, X_test_fs"
      ],
      "execution_count": 0,
      "outputs": []
    },
    {
      "cell_type": "code",
      "metadata": {
        "id": "4DSwmMe9WHkq",
        "colab_type": "code",
        "colab": {},
        "outputId": "196c4142-0865-46ea-9fa4-d8301653f537"
      },
      "source": [
        "#Cargamos el dataset\n",
        "file = \"https://raw.githubusercontent.com/jbrownlee/Datasets/master/breast-cancer.csv\"\n",
        "X, y = load_dataset(file)\n",
        "\n",
        "#Dividimos los datos de entrada, X, y salida, y\n",
        "X_train, X_test, y_train, y_test = train_test_split(X, y, test_size=0.33, random_state=1)\n",
        "#Preparamos a X\n",
        "X_train_enc, X_test_enc = prepare_inputs(X_train, X_test)\n",
        "#Preparamos a y\n",
        "y_train_enc, y_test_enc = prepare_targets(y_train, y_test)\n",
        "#Selección de características\n",
        "X_train_fs, X_test_fs = select_features(X_train_enc, y_train_enc, X_test_enc)\n",
        "\n",
        "#Buscamos el modelo\n",
        "model = LogisticRegression(solver='lbfgs')\n",
        "model.fit(X_train_fs, y_train_enc)\n",
        "\n",
        "#Encontramos el modelo\n",
        "yhat = model.predict(X_test_fs)\n",
        "\n",
        "#Evaluamos el desempeño del modelo encontrado\n",
        "accuracy = accuracy_score(y_test_enc, yhat)\n",
        "print('Accuracy/exactitud: %.2f' % (accuracy*100), '%')"
      ],
      "execution_count": 0,
      "outputs": [
        {
          "output_type": "stream",
          "text": [
            "Característica 0: 0.472553\n",
            "Característica 1: 0.029193\n",
            "Característica 2: 2.137658\n",
            "Característica 3: 29.381059\n",
            "Característica 4: 8.222601\n",
            "Característica 5: 8.100183\n",
            "Característica 6: 1.273822\n",
            "Característica 7: 0.950682\n",
            "Característica 8: 3.699989\n",
            "Accuracy/exactitud: 74.74 %\n"
          ],
          "name": "stdout"
        },
        {
          "output_type": "display_data",
          "data": {
            "image/png": "[encoded data removed]",
            "text/plain": [
              "<Figure size 576x720 with 1 Axes>"
            ]
          },
          "metadata": {
            "tags": [],
            "needs_background": "light"
          }
        }
      ]
    },
    {
      "cell_type": "code",
      "metadata": {
        "id": "T9PmEeswWHku",
        "colab_type": "code",
        "colab": {}
      },
      "source": [
        "#Selección de características\n",
        "def select_features(X_train, y_train, X_test):\n",
        "    fs = SelectKBest(score_func=mutual_info_classif, k=4)\n",
        "    fs.fit(X_train, y_train)\n",
        "    X_train_fs = fs.transform(X_train)\n",
        "    X_test_fs = fs.transform(X_test)\n",
        "    \n",
        "    for i in range(len(fs.scores_)):\n",
        "        print('Característica %d: %f' % (i, fs.scores_[i]))\n",
        "    \n",
        "    plt.bar([i for i in range(len(fs.scores_))], fs.scores_)\n",
        "    return X_train_fs, X_test_fs"
      ],
      "execution_count": 0,
      "outputs": []
    },
    {
      "cell_type": "code",
      "metadata": {
        "id": "_fETcFapWHky",
        "colab_type": "code",
        "colab": {},
        "outputId": "a4d330b2-4ae2-4024-d019-c4b90639ed20"
      },
      "source": [
        "#Cargamos el dataset\n",
        "file = \"https://raw.githubusercontent.com/jbrownlee/Datasets/master/breast-cancer.csv\"\n",
        "X, y = load_dataset(file)\n",
        "\n",
        "#Dividimos los datos de entrada, X, y salida, y\n",
        "X_train, X_test, y_train, y_test = train_test_split(X, y, test_size=0.33, random_state=1)\n",
        "#Preparamos a X\n",
        "X_train_enc, X_test_enc = prepare_inputs(X_train, X_test)\n",
        "#Preparamos a y\n",
        "y_train_enc, y_test_enc = prepare_targets(y_train, y_test)\n",
        "#Selección de características\n",
        "X_train_fs, X_test_fs = select_features(X_train_enc, y_train_enc, X_test_enc)\n",
        "\n",
        "#Buscamos el modelo\n",
        "model = LogisticRegression(solver='lbfgs')\n",
        "model.fit(X_train_fs, y_train_enc)\n",
        "\n",
        "#Encontramos el modelo\n",
        "yhat = model.predict(X_test_fs)\n",
        "\n",
        "#Evaluamos el desempeño del modelo encontrado\n",
        "accuracy = accuracy_score(y_test_enc, yhat)\n",
        "print('Accuracy/exactitud: %.2f' % (accuracy*100), '%')"
      ],
      "execution_count": 0,
      "outputs": [
        {
          "output_type": "stream",
          "text": [
            "Característica 0: 0.000000\n",
            "Característica 1: 0.000000\n",
            "Característica 2: 0.019998\n",
            "Característica 3: 0.000000\n",
            "Característica 4: 0.018608\n",
            "Característica 5: 0.044174\n",
            "Característica 6: 0.000000\n",
            "Característica 7: 0.000000\n",
            "Característica 8: 0.000000\n",
            "Accuracy/exactitud: 74.74 %\n"
          ],
          "name": "stdout"
        },
        {
          "output_type": "display_data",
          "data": {
            "image/png": "[encoded data removed]",
            "text/plain": [
              "<Figure size 576x720 with 1 Axes>"
            ]
          },
          "metadata": {
            "tags": [],
            "needs_background": "light"
          }
        }
      ]
    },
    {
      "cell_type": "code",
      "metadata": {
        "id": "TlFyAxBOWHk1",
        "colab_type": "code",
        "colab": {}
      },
      "source": [
        ""
      ],
      "execution_count": 0,
      "outputs": []
    }
  ]
}