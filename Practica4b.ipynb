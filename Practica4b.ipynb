{
  "nbformat": 4,
  "nbformat_minor": 0,
  "metadata": {
    "kernelspec": {
      "display_name": "Python 3",
      "language": "python",
      "name": "python3"
    },
    "language_info": {
      "codemirror_mode": {
        "name": "ipython",
        "version": 3
      },
      "file_extension": ".py",
      "mimetype": "text/x-python",
      "name": "python",
      "nbconvert_exporter": "python",
      "pygments_lexer": "ipython3",
      "version": "3.7.4"
    },
    "colab": {
      "name": "Practica4b.ipynb",
      "provenance": [],
      "include_colab_link": true
    }
  },
  "cells": [
    {
      "cell_type": "markdown",
      "metadata": {
        "id": "view-in-github",
        "colab_type": "text"
      },
      "source": [
        "<a href=\"https://colab.research.google.com/github/isma-tincam/practicasmineria/blob/master/Practica4b.ipynb\" target=\"_parent\"><img src=\"https://colab.research.google.com/assets/colab-badge.svg\" alt=\"Open In Colab\"/></a>"
      ]
    },
    {
      "cell_type": "code",
      "metadata": {
        "id": "320HD8vAV-av",
        "colab_type": "code",
        "colab": {}
      },
      "source": [
        "import pandas as pd\n",
        "import numpy as np\n",
        "import matplotlib.pyplot as plt\n",
        "\n",
        "from sklearn.model_selection import train_test_split\n",
        "from sklearn.preprocessing import OrdinalEncoder \n",
        "from sklearn.preprocessing import LabelEncoder\n",
        "from sklearn.feature_selection import SelectKBest, chi2, mutual_info_classif"
      ],
      "execution_count": 0,
      "outputs": []
    },
    {
      "cell_type": "code",
      "metadata": {
        "id": "8gXAwHbHV-az",
        "colab_type": "code",
        "colab": {}
      },
      "source": [
        "file = \"https://raw.githubusercontent.com/jbrownlee/Datasets/master/breast-cancer.csv\"\n",
        "data = pd.read_csv(file, header=None)\n",
        "# arreglo\n",
        "dataset = data.values"
      ],
      "execution_count": 0,
      "outputs": []
    },
    {
      "cell_type": "code",
      "metadata": {
        "id": "FTiIJ-XxV-a3",
        "colab_type": "code",
        "colab": {}
      },
      "source": [
        "X = dataset[:, :-1]\n",
        "y = dataset[:,-1]"
      ],
      "execution_count": 0,
      "outputs": []
    },
    {
      "cell_type": "code",
      "metadata": {
        "id": "Ym8v5SclV-a7",
        "colab_type": "code",
        "colab": {}
      },
      "source": [
        "X = X.astype(str)"
      ],
      "execution_count": 0,
      "outputs": []
    },
    {
      "cell_type": "code",
      "metadata": {
        "id": "m6V7ZGp9V-a-",
        "colab_type": "code",
        "colab": {}
      },
      "source": [
        "def load_dataset(filename):\n",
        "    # Cargamos el Dataframe\n",
        "    data = pd.read_csv(filename, header=None)\n",
        "    # Generamos un arreglo\n",
        "    dataset = data.values\n",
        "    # Dividimos en X y y\n",
        "    X = dataset[:, :-1]\n",
        "    y = dataset[:,-1]\n",
        "    # Forzamos que X sea string \n",
        "    X = X.astype(str)\n",
        "    return X, y"
      ],
      "execution_count": 0,
      "outputs": []
    },
    {
      "cell_type": "code",
      "metadata": {
        "id": "lz8FsAYiV-bC",
        "colab_type": "code",
        "colab": {},
        "outputId": "f4e9e9ca-dd90-495e-f922-4095fe177d2b"
      },
      "source": [
        "# Cargamos el dataset\n",
        "X, y = load_dataset(file)\n",
        "\n",
        "# Dividimos en train y test\n",
        "X_train, X_test, y_train, y_test = train_test_split(X, y, test_size=0.33, random_state=1)\n",
        "\n",
        "# Checamos las dimensiones\n",
        "print('Train', X_train.shape, y_train.shape)\n",
        "print('Test', X_test.shape, y_test.shape)"
      ],
      "execution_count": 0,
      "outputs": [
        {
          "output_type": "stream",
          "text": [
            "Train (191, 9) (191,)\n",
            "Test (95, 9) (95,)\n"
          ],
          "name": "stdout"
        }
      ]
    },
    {
      "cell_type": "code",
      "metadata": {
        "id": "Tl6PJR9xV-bH",
        "colab_type": "code",
        "colab": {}
      },
      "source": [
        "# prepare input data\n",
        "def prepare_inputs(X_train, X_test):\n",
        "    oe = OrdinalEncoder()\n",
        "    oe.fit(X_train)\n",
        "    X_train_enc = oe.transform(X_train)\n",
        "    X_test_enc = oe.transform(X_test)\n",
        "    return X_train_enc, X_test_enc"
      ],
      "execution_count": 0,
      "outputs": []
    },
    {
      "cell_type": "code",
      "metadata": {
        "id": "Wv_MrkAzV-bK",
        "colab_type": "code",
        "colab": {}
      },
      "source": [
        "def prepare_targets(y_train, y_test):\n",
        "    le = LabelEncoder()\n",
        "    le.fit(y_train)\n",
        "    y_train_enc = le.transform(y_train)\n",
        "    y_test_enc = le.transform(y_test)\n",
        "    return y_train_enc, y_test_enc"
      ],
      "execution_count": 0,
      "outputs": []
    },
    {
      "cell_type": "code",
      "metadata": {
        "id": "dByFCF-wV-bN",
        "colab_type": "code",
        "colab": {}
      },
      "source": [
        "# Preparamos los datos de entrada o características\n",
        "X_train_enc, X_test_enc = prepare_inputs(X_train, X_test)\n",
        "\n",
        "# Preparamos los datos de salida o target\n",
        "y_train_enc, y_test_enc = prepare_targets(y_train, y_test)"
      ],
      "execution_count": 0,
      "outputs": []
    },
    {
      "cell_type": "code",
      "metadata": {
        "id": "wLPuutI7V-bR",
        "colab_type": "code",
        "colab": {}
      },
      "source": [
        "def select_features(X_train, y_train, X_test):\n",
        "\tfs = SelectKBest(score_func=chi2, k='all')\n",
        "\tfs.fit(X_train, y_train)\n",
        "\tX_train_fs = fs.transform(X_train)\n",
        "\tX_test_fs = fs.transform(X_test)\n",
        "\treturn X_train_fs, X_test_fs, fs"
      ],
      "execution_count": 0,
      "outputs": []
    },
    {
      "cell_type": "code",
      "metadata": {
        "id": "3Y98IHJqV-bV",
        "colab_type": "code",
        "colab": {}
      },
      "source": [
        "# Selección de características con chi-squared\n",
        "X_train_fs, X_test_fs, fs = select_features(X_train_enc, y_train_enc, X_test_enc)"
      ],
      "execution_count": 0,
      "outputs": []
    },
    {
      "cell_type": "code",
      "metadata": {
        "id": "XK_XqmmGV-bY",
        "colab_type": "code",
        "colab": {},
        "outputId": "8af4b7cf-851a-4508-89df-c73509893e99"
      },
      "source": [
        "for i in range(len(fs.scores_)):\n",
        "    print('Característica %d: %f' % (i, fs.scores_[i]))\n",
        "\n",
        "plt.bar([i for i in range(len(fs.scores_))], fs.scores_)\n",
        "plt.show()"
      ],
      "execution_count": 0,
      "outputs": [
        {
          "output_type": "stream",
          "text": [
            "Característica 0: 0.472553\n",
            "Característica 1: 0.029193\n",
            "Característica 2: 2.137658\n",
            "Característica 3: 29.381059\n",
            "Característica 4: 8.222601\n",
            "Característica 5: 8.100183\n",
            "Característica 6: 1.273822\n",
            "Característica 7: 0.950682\n",
            "Característica 8: 3.699989\n"
          ],
          "name": "stdout"
        },
        {
          "output_type": "display_data",
          "data": {
            "image/png": "[encoded data removed]",
            "text/plain": [
              "<Figure size 576x720 with 1 Axes>"
            ]
          },
          "metadata": {
            "tags": [],
            "needs_background": "light"
          }
        }
      ]
    },
    {
      "cell_type": "code",
      "metadata": {
        "id": "TdjrmnyDV-bb",
        "colab_type": "code",
        "colab": {}
      },
      "source": [
        "def select_features(X_train, y_train, X_test):\n",
        "    fs = SelectKBest(score_func=mutual_info_classif, k='all')\n",
        "    fs.fit(X_train, y_train)\n",
        "    X_train_fs = fs.transform(X_train)\n",
        "    X_test_fs = fs.transform(X_test)\n",
        "    return X_train_fs, X_test_fs, fs"
      ],
      "execution_count": 0,
      "outputs": []
    },
    {
      "cell_type": "code",
      "metadata": {
        "id": "ZfEBZt6BV-be",
        "colab_type": "code",
        "colab": {}
      },
      "source": [
        "# Selección de características con mutual information\n",
        "X_train_fs, X_test_fs, fs = select_features(X_train_enc, y_train_enc, X_test_enc)"
      ],
      "execution_count": 0,
      "outputs": []
    },
    {
      "cell_type": "code",
      "metadata": {
        "id": "xv40G5LqV-bi",
        "colab_type": "code",
        "colab": {},
        "outputId": "92cfa670-7de6-49a5-a7d3-a4ae7ccd9099"
      },
      "source": [
        "for i in range(len(fs.scores_)):\n",
        "    print('Característica %d: %f' % (i, fs.scores_[i]))\n",
        "\n",
        "plt.bar([i for i in range(len(fs.scores_))], fs.scores_)\n",
        "plt.show()"
      ],
      "execution_count": 0,
      "outputs": [
        {
          "output_type": "stream",
          "text": [
            "Característica 0: 0.053283\n",
            "Característica 1: 0.006299\n",
            "Característica 2: 0.026523\n",
            "Característica 3: 0.000000\n",
            "Característica 4: 0.050272\n",
            "Característica 5: 0.031962\n",
            "Característica 6: 0.000000\n",
            "Característica 7: 0.037312\n",
            "Característica 8: 0.042506\n"
          ],
          "name": "stdout"
        },
        {
          "output_type": "display_data",
          "data": {
            "image/png": "[encoded data removed]",
            "text/plain": [
              "<Figure size 576x720 with 1 Axes>"
            ]
          },
          "metadata": {
            "tags": [],
            "needs_background": "light"
          }
        }
      ]
    },
    {
      "cell_type": "code",
      "metadata": {
        "id": "pEzqTlKzV-bm",
        "colab_type": "code",
        "colab": {}
      },
      "source": [
        ""
      ],
      "execution_count": 0,
      "outputs": []
    }
  ]
}